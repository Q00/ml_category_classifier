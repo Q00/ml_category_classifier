{
  "nbformat": 4,
  "nbformat_minor": 0,
  "metadata": {
    "colab": {
      "name": "use_spark",
      "provenance": [],
      "collapsed_sections": [],
      "include_colab_link": true
    },
    "kernelspec": {
      "name": "python3",
      "display_name": "Python 3"
    }
  },
  "cells": [
    {
      "cell_type": "markdown",
      "metadata": {
        "id": "view-in-github",
        "colab_type": "text"
      },
      "source": [
        "<a href=\"https://colab.research.google.com/github/Q00/ml_category_classifier/blob/master/use_spark.ipynb\" target=\"_parent\"><img src=\"https://colab.research.google.com/assets/colab-badge.svg\" alt=\"Open In Colab\"/></a>"
      ]
    },
    {
      "cell_type": "code",
      "metadata": {
        "id": "mWqJovodjUwD",
        "colab_type": "code",
        "colab": {}
      },
      "source": [
        "!apt-get install openjdk-8-jdk-headless -qq > /dev/null\n",
        "!wget -q http://www-eu.apache.org/dist/spark/spark-2.4.4/spark-2.4.4-bin-hadoop2.7.tgz\n",
        "!tar xf spark-2.4.4-bin-hadoop2.7.tgz\n",
        "!pip install -q findspark"
      ],
      "execution_count": 0,
      "outputs": []
    },
    {
      "cell_type": "code",
      "metadata": {
        "id": "m9a4dyx5kW6F",
        "colab_type": "code",
        "colab": {}
      },
      "source": [
        "import os\n",
        "os.environ[\"JAVA_HOME\"] = \"/usr/lib/jvm/java-8-openjdk-amd64\"\n",
        "os.environ[\"SPARK_HOME\"] = \"/content/spark-2.4.4-bin-hadoop2.7\""
      ],
      "execution_count": 0,
      "outputs": []
    },
    {
      "cell_type": "code",
      "metadata": {
        "id": "vlDR_yd0k0mj",
        "colab_type": "code",
        "colab": {}
      },
      "source": [
        "import findspark\n",
        "findspark.init(\"spark-2.4.4-bin-hadoop2.7\")# SPARK_HOME\n",
        "from pyspark.sql import SparkSession, SQLContext\n",
        "spark = SparkSession.builder.master(\"local[*]\").getOrCreate()\n",
        "sc = spark.sparkContext\n",
        "sqlContext = SQLContext(sc)\n",
        "data = sqlContext.read.format('com.databricks.spark.csv').options(header='false', inferschema='true').load(\"./drive/My\\ Drive/ColabNotebooks/train.csv\")"
      ],
      "execution_count": 0,
      "outputs": []
    },
    {
      "cell_type": "code",
      "metadata": {
        "id": "8hisJULAsePm",
        "colab_type": "code",
        "outputId": "43aa74a5-a3ab-49d0-9f12-734a6a469c4c",
        "colab": {
          "base_uri": "https://localhost:8080/",
          "height": 85
        }
      },
      "source": [
        "#data.map(lambda line : line.split(',')).map(lambda field: (field[0],field[1])).keys().countByValue()\n",
        "data.printSchema()\n"
      ],
      "execution_count": 0,
      "outputs": [
        {
          "output_type": "stream",
          "text": [
            "root\n",
            " |-- _c0: string (nullable = true)\n",
            " |-- _c1: string (nullable = true)\n",
            "\n"
          ],
          "name": "stdout"
        }
      ]
    },
    {
      "cell_type": "code",
      "metadata": {
        "id": "aeHhSdCYtL8y",
        "colab_type": "code",
        "colab": {}
      },
      "source": [
        "from pyspark.ml.feature import RegexTokenizer, StopWordsRemover, CountVectorizer\n",
        "from pyspark.ml.classification import LogisticRegression\n",
        "# regular expression tokenizer\n",
        "regexTokenizer = RegexTokenizer(inputCol=\"_c1\", outputCol=\"words\", pattern=\"\\\\W\")\n",
        "# stop words\n",
        "add_stopwords = [\"the\"] \n",
        "stopwordsRemover = StopWordsRemover(inputCol=\"words\", outputCol=\"filtered\").setStopWords(add_stopwords)"
      ],
      "execution_count": 0,
      "outputs": []
    },
    {
      "cell_type": "code",
      "metadata": {
        "id": "dKbvJG2YwL5x",
        "colab_type": "code",
        "colab": {}
      },
      "source": [
        "# bag of words count\n",
        "countVectors = CountVectorizer(inputCol=\"filtered\", outputCol=\"features\", vocabSize=10000, minDF=5)\n"
      ],
      "execution_count": 0,
      "outputs": []
    },
    {
      "cell_type": "markdown",
      "metadata": {
        "id": "hnGP76nA3VJ2",
        "colab_type": "text"
      },
      "source": [
        "_c0 : 카테고리가 label index로 색인시작 ( 다섯가지)\n"
      ]
    },
    {
      "cell_type": "code",
      "metadata": {
        "id": "cNLtZmtB1VmZ",
        "colab_type": "code",
        "outputId": "4b7860f1-1afa-446d-9da1-5b6253f7a9e7",
        "colab": {
          "base_uri": "https://localhost:8080/",
          "height": 289
        }
      },
      "source": [
        "from pyspark.ml import Pipeline\n",
        "from pyspark.ml.feature import OneHotEncoder, StringIndexer, VectorAssembler\n",
        "label_stringIdx = StringIndexer(inputCol = \"_c0\", outputCol = \"label\")\n",
        "pipeline = Pipeline(stages=[regexTokenizer, stopwordsRemover, countVectors, label_stringIdx])\n",
        "# Fit the pipeline to training documents.\n",
        "pipelineFit = pipeline.fit(data)\n",
        "dataset = pipelineFit.transform(data)\n",
        "dataset.show(10)"
      ],
      "execution_count": 0,
      "outputs": [
        {
          "output_type": "stream",
          "text": [
            "+-------------+--------------------+--------------------+--------------------+--------------------+-----+\n",
            "|          _c0|                 _c1|               words|            filtered|            features|label|\n",
            "+-------------+--------------------+--------------------+--------------------+--------------------+-----+\n",
            "|         tech|tv future in the ...|[tv, future, in, ...|[tv, future, in, ...|(9447,[0,1,2,3,4,...|  3.0|\n",
            "|     business|worldcom boss  le...|[worldcom, boss, ...|[worldcom, boss, ...|(9447,[0,1,2,3,4,...|  1.0|\n",
            "|        sport|tigers wary of fa...|[tigers, wary, of...|[tigers, wary, of...|(9447,[0,1,2,3,4,...|  0.0|\n",
            "|        sport|yeading face newc...|[yeading, face, n...|[yeading, face, n...|(9447,[0,1,2,3,4,...|  0.0|\n",
            "|entertainment|ocean s twelve ra...|[ocean, s, twelve...|[ocean, s, twelve...|(9447,[0,1,2,3,4,...|  4.0|\n",
            "|     politics|howard hits back ...|[howard, hits, ba...|[howard, hits, ba...|(9447,[0,1,2,3,4,...|  2.0|\n",
            "|     politics|blair prepares to...|[blair, prepares,...|[blair, prepares,...|(9447,[0,1,2,3,4,...|  2.0|\n",
            "|        sport|henman hopes ende...|[henman, hopes, e...|[henman, hopes, e...|(9447,[0,1,2,3,4,...|  0.0|\n",
            "|        sport|wilkinson fit to ...|[wilkinson, fit, ...|[wilkinson, fit, ...|(9447,[0,1,2,3,4,...|  0.0|\n",
            "|entertainment|last star wars  n...|[last, star, wars...|[last, star, wars...|(9447,[0,1,2,3,4,...|  4.0|\n",
            "+-------------+--------------------+--------------------+--------------------+--------------------+-----+\n",
            "only showing top 10 rows\n",
            "\n"
          ],
          "name": "stdout"
        }
      ]
    },
    {
      "cell_type": "code",
      "metadata": {
        "id": "cs_z6I6w1jL1",
        "colab_type": "code",
        "outputId": "cc6d702e-b884-42fe-9bb1-d8368b7e0d3c",
        "colab": {
          "base_uri": "https://localhost:8080/",
          "height": 51
        }
      },
      "source": [
        "# set seed for reproducibility\n",
        "(trainingData, testData) = dataset.randomSplit([0.8, 0.2], seed = 100)\n",
        "print(\"Training Dataset Count: \" + str(trainingData.count()))\n",
        "print(\"Test Dataset Count: \" + str(testData.count()))"
      ],
      "execution_count": 0,
      "outputs": [
        {
          "output_type": "stream",
          "text": [
            "Training Dataset Count: 1776\n",
            "Test Dataset Count: 449\n"
          ],
          "name": "stdout"
        }
      ]
    },
    {
      "cell_type": "markdown",
      "metadata": {
        "id": "CVNUXn3r3utf",
        "colab_type": "text"
      },
      "source": [
        "LogisticRegression 사용"
      ]
    },
    {
      "cell_type": "code",
      "metadata": {
        "id": "NQqsUzmr3oL4",
        "colab_type": "code",
        "outputId": "4cd6a0a3-22a9-4715-8604-20f178404d6b",
        "colab": {
          "base_uri": "https://localhost:8080/",
          "height": 34
        }
      },
      "source": [
        "lr = LogisticRegression(maxIter=20, regParam=0.3, elasticNetParam=0)\n",
        "lrModel = lr.fit(trainingData)\n",
        "print(lrModel)"
      ],
      "execution_count": 0,
      "outputs": [
        {
          "output_type": "stream",
          "text": [
            "LogisticRegressionModel: uid = LogisticRegression_33019ad0b1fe, numClasses = 5, numFeatures = 9447\n"
          ],
          "name": "stdout"
        }
      ]
    },
    {
      "cell_type": "code",
      "metadata": {
        "id": "QdlUj9iJ3uAt",
        "colab_type": "code",
        "outputId": "8a0bd476-c8c2-4690-b1bd-459585331ab5",
        "colab": {
          "base_uri": "https://localhost:8080/",
          "height": 309
        }
      },
      "source": [
        "predictions = lrModel.transform(testData)\n",
        "predictions.filter(predictions['prediction'] == 4.0) \\\n",
        "    .select(\"_c1\",\"_c0\",\"probability\",\"label\",\"prediction\") \\\n",
        "    .orderBy(\"probability\", ascending=False) \\\n",
        "    .show(n = 10, truncate = 100)\n"
      ],
      "execution_count": 0,
      "outputs": [
        {
          "output_type": "stream",
          "text": [
            "+----------------------------------------------------------------------------------------------------+-------------+----------------------------------------------------------------------------------------------------+-----+----------+\n",
            "|                                                                                                 _c1|          _c0|                                                                                         probability|label|prediction|\n",
            "+----------------------------------------------------------------------------------------------------+-------------+----------------------------------------------------------------------------------------------------+-----+----------+\n",
            "|uganda bans vagina monologues uganda s authorities have banned the play the vagina monologues  du...|entertainment|  [0.22142210008450433,0.06926105589862376,0.1771293046813308,0.09238374822022723,0.439803791115314]|  4.0|       4.0|\n",
            "|soul sensation ready for awards south west teenage singing sensation  joss stone  has been nomina...|entertainment|[0.19685412387516274,0.08353274857776487,0.059634541627844914,0.054470538508860356,0.605508047410...|  4.0|       4.0|\n",
            "|johnny and denise lose passport johnny vaughan and denise van outen s saturday night entertainmen...|entertainment| [0.19253940496033858,0.09849759715139872,0.10646800898547026,0.0858493412390359,0.5166456476637564]|  4.0|       4.0|\n",
            "|moreno debut makes oscar mark catalina sandino moreno has joined a rare group of actresses who ha...|entertainment|[0.18138716315936426,0.10714055673733053,0.05760190003789479,0.05753981634965157,0.5963305637157588]|  4.0|       4.0|\n",
            "|prodigy join v festival line-up essex act prodigy are to headline the second stage at this year s...|entertainment|[0.16671603484353395,0.04223268846560709,0.022868972896445107,0.018770644517002034,0.749411659277...|  4.0|       4.0|\n",
            "|us composer recreates bach score a us musicologist has recreated a lost musical score by german c...|entertainment|[0.14923835450643613,0.19237624336999187,0.16316102323329695,0.09963879188579801,0.3955855870044771]|  4.0|       4.0|\n",
            "|gallery unveils interactive tree a christmas tree that can receive text messages has been unveile...|entertainment|[0.14778594082571003,0.14115159423077095,0.06832768143033588,0.20179923396718003,0.44093554954600...|  4.0|       4.0|\n",
            "|uk helps raped rwandan women britain is to give a ?4m grant to help women survivors of the rwanda...|     politics|[0.14680451438623793,0.25258473098759954,0.21018036740789864,0.11114167681157551,0.2792887104066883]|  2.0|       4.0|\n",
            "|no charges against tv s cosby us comedian bill cosby will not face charges stemming from an alleg...|entertainment|[0.14209207200783197,0.22138627091923088,0.10287698360874308,0.05263703232545455,0.48100764113873...|  4.0|       4.0|\n",
            "|spark heads world booker list dame muriel spark is among three british authors who have made the ...|entertainment|[0.13669685085244085,0.11912486947203932,0.09394856239879988,0.05372182960357215,0.5965078876731477]|  4.0|       4.0|\n",
            "+----------------------------------------------------------------------------------------------------+-------------+----------------------------------------------------------------------------------------------------+-----+----------+\n",
            "only showing top 10 rows\n",
            "\n"
          ],
          "name": "stdout"
        }
      ]
    },
    {
      "cell_type": "code",
      "metadata": {
        "id": "GATDRGAi3yyG",
        "colab_type": "code",
        "outputId": "396f0934-0812-4dec-eae1-18f7cb110e84",
        "colab": {
          "base_uri": "https://localhost:8080/",
          "height": 34
        }
      },
      "source": [
        "from pyspark.ml.evaluation import MulticlassClassificationEvaluator\n",
        "evaluator = MulticlassClassificationEvaluator(predictionCol=\"prediction\")\n",
        "evaluator.evaluate(predictions)"
      ],
      "execution_count": 0,
      "outputs": [
        {
          "output_type": "execute_result",
          "data": {
            "text/plain": [
              "0.9733977646698799"
            ]
          },
          "metadata": {
            "tags": []
          },
          "execution_count": 79
        }
      ]
    },
    {
      "cell_type": "markdown",
      "metadata": {
        "id": "KAJ11eNM9nMB",
        "colab_type": "text"
      },
      "source": [
        "TF-IDF\n"
      ]
    },
    {
      "cell_type": "code",
      "metadata": {
        "id": "9Lc5mnz75ZFc",
        "colab_type": "code",
        "outputId": "0fd92f2f-75de-4fca-ed00-599de927955e",
        "colab": {
          "base_uri": "https://localhost:8080/",
          "height": 289
        }
      },
      "source": [
        "from pyspark.ml.feature import HashingTF, IDF\n",
        "hashingTF = HashingTF(inputCol=\"filtered\", outputCol=\"rawFeatures\", numFeatures=10000)\n",
        "idf = IDF(inputCol=\"rawFeatures\", outputCol=\"features\", minDocFreq=5) #minDocFreq: remove sparse terms\n",
        "pipeline = Pipeline(stages=[regexTokenizer, stopwordsRemover, hashingTF, idf, label_stringIdx])\n",
        "pipelineFit = pipeline.fit(data)\n",
        "dataset = pipelineFit.transform(data)\n",
        "(trainingData, testData) = dataset.randomSplit([0.8, 0.2], seed = 100)\n",
        "lr = LogisticRegression(maxIter=20, regParam=0.3, elasticNetParam=0)\n",
        "lrModel = lr.fit(trainingData)\n",
        "predictions = lrModel.transform(testData)\n",
        "predictions.filter(predictions['prediction'] == 0) \\\n",
        "    .select(\"_c1\",\"_c1\",\"probability\",\"label\",\"prediction\") \\\n",
        "    .orderBy(\"probability\", ascending=False) \\\n",
        "    .show(n = 10, truncate = 30)"
      ],
      "execution_count": 0,
      "outputs": [
        {
          "output_type": "stream",
          "text": [
            "+------------------------------+------------------------------+------------------------------+-----+----------+\n",
            "|                           _c1|                           _c1|                   probability|label|prediction|\n",
            "+------------------------------+------------------------------+------------------------------+-----+----------+\n",
            "|all black magic: new zealan...|all black magic: new zealan...|[0.9999128693829448,1.76278...|  0.0|       0.0|\n",
            "|britain boosted by holmes d...|britain boosted by holmes d...|[0.9996848851904876,3.03167...|  0.0|       0.0|\n",
            "|celts savour grand slam pro...|celts savour grand slam pro...|[0.9931376466001954,0.00124...|  0.0|       0.0|\n",
            "|johnson edges out rival sot...|johnson edges out rival sot...|[0.9922290391087946,0.00204...|  0.0|       0.0|\n",
            "|parry firm over gerrard lis...|parry firm over gerrard lis...|[0.9896240446379182,7.72761...|  0.0|       0.0|\n",
            "|safin cool on wimbledon new...|safin cool on wimbledon new...|[0.9891740344748176,0.00166...|  0.0|       0.0|\n",
            "|man utd stroll to cup win w...|man utd stroll to cup win w...|[0.9869668390449496,0.00111...|  0.0|       0.0|\n",
            "|giggs handed wales leading ...|giggs handed wales leading ...|[0.9865359221332666,0.00312...|  0.0|       0.0|\n",
            "|o driscoll saves irish blus...|o driscoll saves irish blus...|[0.9862229094032108,0.00386...|  0.0|       0.0|\n",
            "|healey targets england come...|healey targets england come...|[0.9853390561112286,0.00152...|  0.0|       0.0|\n",
            "+------------------------------+------------------------------+------------------------------+-----+----------+\n",
            "only showing top 10 rows\n",
            "\n"
          ],
          "name": "stdout"
        }
      ]
    },
    {
      "cell_type": "code",
      "metadata": {
        "id": "ltZkMMSQ9vIL",
        "colab_type": "code",
        "outputId": "0fe84d15-19f1-43d0-c777-5953761c0e54",
        "colab": {
          "base_uri": "https://localhost:8080/",
          "height": 34
        }
      },
      "source": [
        "evaluator = MulticlassClassificationEvaluator(predictionCol=\"prediction\")\n",
        "evaluator.evaluate(predictions)"
      ],
      "execution_count": 0,
      "outputs": [
        {
          "output_type": "execute_result",
          "data": {
            "text/plain": [
              "0.9688322104184124"
            ]
          },
          "metadata": {
            "tags": []
          },
          "execution_count": 87
        }
      ]
    },
    {
      "cell_type": "markdown",
      "metadata": {
        "id": "ITH1Y7oqC0Xt",
        "colab_type": "text"
      },
      "source": [
        "cross-validation"
      ]
    },
    {
      "cell_type": "code",
      "metadata": {
        "id": "hmSvIYloUl2-",
        "colab_type": "code",
        "colab": {}
      },
      "source": [
        "pipeline = Pipeline(stages=[regexTokenizer, stopwordsRemover, countVectors, label_stringIdx])\n",
        "pipelineFit = pipeline.fit(data)\n",
        "dataset = pipelineFit.transform(data)\n",
        "(trainingData, testData) = dataset.randomSplit([0.8, 0.2], seed = 100)"
      ],
      "execution_count": 0,
      "outputs": []
    },
    {
      "cell_type": "code",
      "metadata": {
        "id": "bZKo04oDC9p_",
        "colab_type": "code",
        "colab": {
          "base_uri": "https://localhost:8080/",
          "height": 34
        },
        "outputId": "40d5206f-1c82-4457-df1b-f434df7c7add"
      },
      "source": [
        "lr = LogisticRegression(maxIter=20, regParam=0.3, elasticNetParam=0)\n",
        "from pyspark.ml.tuning import ParamGridBuilder, CrossValidator\n",
        "# Create ParamGrid for Cross Validation\n",
        "paramGrid = (ParamGridBuilder()\n",
        "             .addGrid(lr.regParam, [0.1, 0.3, 0.5]) # regularization parameter\n",
        "             .addGrid(lr.elasticNetParam, [0.0, 0.1, 0.2]) # Elastic Net Parameter (Ridge = 0)\n",
        "#            .addGrid(model.maxIter, [10, 20, 50]) #Number of iterations\n",
        "#            .addGrid(idf.numFeatures, [10, 100, 1000]) # Number of features\n",
        "             .build())\n",
        "\n",
        "# Create 5-fold CrossValidator\n",
        "cv = CrossValidator(estimator=lr, \\\n",
        "                    estimatorParamMaps=paramGrid, \\\n",
        "                    evaluator=evaluator, \\\n",
        "                    numFolds=5)\n",
        "cvModel = cv.fit(trainingData)\n",
        "\n",
        "predictions = cvModel.transform(testData)\n",
        "# Evaluate best model\n",
        "evaluator = MulticlassClassificationEvaluator(predictionCol=\"prediction\")\n",
        "evaluator.evaluate(predictions)"
      ],
      "execution_count": 89,
      "outputs": [
        {
          "output_type": "execute_result",
          "data": {
            "text/plain": [
              "0.968762659639567"
            ]
          },
          "metadata": {
            "tags": []
          },
          "execution_count": 89
        }
      ]
    },
    {
      "cell_type": "markdown",
      "metadata": {
        "id": "NtyFawWdEAAJ",
        "colab_type": "text"
      },
      "source": [
        "Naive Bayes"
      ]
    },
    {
      "cell_type": "code",
      "metadata": {
        "id": "XUvRkpHDDNcL",
        "colab_type": "code",
        "colab": {
          "base_uri": "https://localhost:8080/",
          "height": 309
        },
        "outputId": "d6c76bdc-d9fa-4de5-bf99-4c558e214514"
      },
      "source": [
        "from pyspark.ml.classification import NaiveBayes\n",
        "nb = NaiveBayes(smoothing=1)\n",
        "model = nb.fit(trainingData)\n",
        "predictions = model.transform(testData)\n",
        "predictions.filter(predictions['prediction'] == 0) \\\n",
        "    .select(\"_c1\",\"_c0\",\"probability\",\"label\",\"prediction\") \\\n",
        "    .orderBy(\"probability\", ascending=False) \\\n",
        "    .show(n = 10, truncate = 30)"
      ],
      "execution_count": 93,
      "outputs": [
        {
          "output_type": "stream",
          "text": [
            "+------------------------------+-----+------------------------------+-----+----------+\n",
            "|                           _c1|  _c0|                   probability|label|prediction|\n",
            "+------------------------------+-----+------------------------------+-----+----------+\n",
            "|bates seals takeover ken ba...|sport|[1.0,1.4405670836794528E-17...|  0.0|       0.0|\n",
            "|pountney handed ban and fin...|sport|[1.0,1.5114820337199625E-28...|  0.0|       0.0|\n",
            "|hereford 1-1 doncaster here...|sport|[1.0,2.1723135146840322E-33...|  0.0|       0.0|\n",
            "|collins banned in landmark ...|sport|[1.0,2.0294308220167036E-33...|  0.0|       0.0|\n",
            "|benitez  to launch moriente...|sport|[1.0,1.7173545683502412E-35...|  0.0|       0.0|\n",
            "|tulu to appear at caledonia...|sport|[1.0,2.357169485349786E-36,...|  0.0|       0.0|\n",
            "|beattie return calms attack...|sport|[1.0,3.827751047511699E-39,...|  0.0|       0.0|\n",
            "|sprinter walker quits athle...|sport|[1.0,6.04513995079047E-42,5...|  0.0|       0.0|\n",
            "|sociedad set to rescue mlad...|sport|[1.0,7.527252841651215E-44,...|  0.0|       0.0|\n",
            "|soderling wins tense milan ...|sport|[1.0,4.8350553866713904E-52...|  0.0|       0.0|\n",
            "+------------------------------+-----+------------------------------+-----+----------+\n",
            "only showing top 10 rows\n",
            "\n"
          ],
          "name": "stdout"
        }
      ]
    },
    {
      "cell_type": "code",
      "metadata": {
        "id": "Is5ebTcwEDD_",
        "colab_type": "code",
        "colab": {
          "base_uri": "https://localhost:8080/",
          "height": 34
        },
        "outputId": "7f45582d-bd04-4a6f-83da-e78d021f6163"
      },
      "source": [
        "evaluator = MulticlassClassificationEvaluator(predictionCol=\"prediction\")\n",
        "evaluator.evaluate(predictions)"
      ],
      "execution_count": 94,
      "outputs": [
        {
          "output_type": "execute_result",
          "data": {
            "text/plain": [
              "0.9711195012749292"
            ]
          },
          "metadata": {
            "tags": []
          },
          "execution_count": 94
        }
      ]
    },
    {
      "cell_type": "markdown",
      "metadata": {
        "id": "DVyuFOE5EZyw",
        "colab_type": "text"
      },
      "source": [
        "Random Forest"
      ]
    },
    {
      "cell_type": "code",
      "metadata": {
        "id": "FaXIAmRXEOxl",
        "colab_type": "code",
        "colab": {
          "base_uri": "https://localhost:8080/",
          "height": 309
        },
        "outputId": "ebc742d5-8f4a-4bcc-eb26-c6c35d95998d"
      },
      "source": [
        "from pyspark.ml.classification import RandomForestClassifier\n",
        "rf = RandomForestClassifier(labelCol=\"label\", \\\n",
        "                            featuresCol=\"features\", \\\n",
        "                            numTrees = 100, \\\n",
        "                            maxDepth = 4, \\\n",
        "                            maxBins = 32)\n",
        "# Train model with Training Data\n",
        "rfModel = rf.fit(trainingData)\n",
        "predictions = rfModel.transform(testData)\n",
        "predictions.filter(predictions['prediction'] == 0) \\\n",
        "    .select(\"_c1\",\"_c0\",\"probability\",\"label\",\"prediction\") \\\n",
        "    .orderBy(\"probability\", ascending=False) \\\n",
        "    .show(n = 10, truncate = 30)"
      ],
      "execution_count": 96,
      "outputs": [
        {
          "output_type": "stream",
          "text": [
            "+------------------------------+-----+------------------------------+-----+----------+\n",
            "|                           _c1|  _c0|                   probability|label|prediction|\n",
            "+------------------------------+-----+------------------------------+-----+----------+\n",
            "|mido makes third apology ah...|sport|[0.44695067375157593,0.1507...|  0.0|       0.0|\n",
            "|man utd stroll to cup win w...|sport|[0.4384247371503748,0.16193...|  0.0|       0.0|\n",
            "|giggs handed wales leading ...|sport|[0.438297074131562,0.164717...|  0.0|       0.0|\n",
            "|federer claims dubai crown ...|sport|[0.4381960984622244,0.17055...|  0.0|       0.0|\n",
            "|sella wants michalak recall...|sport|[0.436927967182787,0.160053...|  0.0|       0.0|\n",
            "|unclear future for striker ...|sport|[0.4325539543138061,0.17860...|  0.0|       0.0|\n",
            "|dominici backs lacklustre f...|sport|[0.4317524002345162,0.17805...|  0.0|       0.0|\n",
            "|scotland v italy (sat) murr...|sport|[0.4277126386948783,0.17995...|  0.0|       0.0|\n",
            "|france v wales (sat) stade ...|sport|[0.425832337720427,0.173368...|  0.0|       0.0|\n",
            "|mauresmo opens with victory...|sport|[0.4242401448015884,0.17589...|  0.0|       0.0|\n",
            "+------------------------------+-----+------------------------------+-----+----------+\n",
            "only showing top 10 rows\n",
            "\n"
          ],
          "name": "stdout"
        }
      ]
    },
    {
      "cell_type": "code",
      "metadata": {
        "id": "0DsdRMu_EcDp",
        "colab_type": "code",
        "colab": {
          "base_uri": "https://localhost:8080/",
          "height": 34
        },
        "outputId": "be6d80fa-37a1-43f1-a58d-189421fafa7a"
      },
      "source": [
        "evaluator = MulticlassClassificationEvaluator(predictionCol=\"prediction\")\n",
        "evaluator.evaluate(predictions)"
      ],
      "execution_count": 97,
      "outputs": [
        {
          "output_type": "execute_result",
          "data": {
            "text/plain": [
              "0.8448518863348249"
            ]
          },
          "metadata": {
            "tags": []
          },
          "execution_count": 97
        }
      ]
    },
    {
      "cell_type": "code",
      "metadata": {
        "id": "M1B0M27fGHlA",
        "colab_type": "code",
        "colab": {}
      },
      "source": [
        ""
      ],
      "execution_count": 0,
      "outputs": []
    }
  ]
}